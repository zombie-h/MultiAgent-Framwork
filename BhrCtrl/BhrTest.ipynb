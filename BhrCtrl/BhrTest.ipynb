{
 "cells": [
  {
   "cell_type": "code",
   "execution_count": 1,
   "metadata": {},
   "outputs": [],
   "source": [
    "import BhrLgcGPTProcess\n",
    "import BhrLgcManualProcess\n",
    "\n",
    "import pandas as pd\n",
    "import numpy as np\n",
    "import json\n",
    "import re\n",
    "import pickle\n",
    "import hashlib\n",
    "\n",
    "import json"
   ]
  },
  {
   "cell_type": "code",
   "execution_count": 2,
   "metadata": {},
   "outputs": [],
   "source": [
    "java_json = \"\"\"\n",
    "\n",
    "{\"world\": {\"time\": 1753686408125}, \"npcs\": [{\"npcId\": 10008, \"status\": \"move\", \"selling\": [], \"items\": [], \"action\": {\"actionName\": \"move\", \"actionId\": 112, \"param\": {\"gridX\": 0.0, \"gridY\": 0.0, \"npcId\": 10010.0}}, \"curAction\": {}, \"mapData\": [], \"surroundings\": {\"people\": [{\"npcId\": 10006, \"status\": \"free\"}, {\"npcId\": 10007, \"status\": \"Fishing\"}, {\"npcId\": 10009, \"status\": \"free\"}, {\"npcId\": 10010, \"status\": \"move\"}], \"items\": []}, \"talk\": {\"isTalking\": false}}]}\n",
    "\"\"\""
   ]
  },
  {
   "cell_type": "code",
   "execution_count": 3,
   "metadata": {},
   "outputs": [
    {
     "data": {
      "text/plain": [
       "{'world': {'time': 1753686408125},\n",
       " 'npcs': [{'npcId': 10008,\n",
       "   'status': 'move',\n",
       "   'selling': [],\n",
       "   'items': [],\n",
       "   'action': {'actionName': 'move',\n",
       "    'actionId': 112,\n",
       "    'param': {'gridX': 0.0, 'gridY': 0.0, 'npcId': 10010.0}},\n",
       "   'curAction': {},\n",
       "   'mapData': [],\n",
       "   'surroundings': {'people': [{'npcId': 10006, 'status': 'free'},\n",
       "     {'npcId': 10007, 'status': 'Fishing'},\n",
       "     {'npcId': 10009, 'status': 'free'},\n",
       "     {'npcId': 10010, 'status': 'move'}],\n",
       "    'items': []},\n",
       "   'talk': {'isTalking': False}}]}"
      ]
     },
     "execution_count": 3,
     "metadata": {},
     "output_type": "execute_result"
    }
   ],
   "source": [
    "test_json = json.loads(java_json)\n",
    "# if \"mapObj\" in test_json:\n",
    "#     del test_json[\"mapObj\"]\n",
    "test_json"
   ]
  },
  {
   "cell_type": "code",
   "execution_count": 12,
   "metadata": {},
   "outputs": [
    {
     "name": "stdout",
     "output_type": "stream",
     "text": [
      "112 10010.0\n",
      "Method: parse_isFindingPeopletoTalk | Description: Checks if NPC is looking for people to talk | Result: True \n",
      "\n"
     ]
    },
    {
     "data": {
      "text/plain": [
       "(True, 10010.0)"
      ]
     },
     "execution_count": 12,
     "metadata": {},
     "output_type": "execute_result"
    }
   ],
   "source": [
    "def parse_isFindingPeopletoTalk(json_input):\n",
    "    \"\"\"\n",
    "    Checks if the NPC is currently performing actionId = 112 (finding people to talk).\n",
    "    Returns True if yes, False otherwise.\n",
    "    \"\"\"\n",
    "    try:\n",
    "        data = json.loads(json_input)\n",
    "    except json.JSONDecodeError as e:\n",
    "        result = f\"Error parsing JSON: {e}\"\n",
    "        print(\"Method: parse_isFindingPeopletoTalk | Description: Checks if NPC is looking for people to talk (actionId=112) | Result:\", result, \"\\n\")\n",
    "        return result, None\n",
    "    \n",
    "    npcs = data.get('npcs', [])\n",
    "    if not npcs:\n",
    "        result = False\n",
    "        print(\"Method: parse_isFindingPeopletoTalk | Description: Checks if NPC is looking for people to talk | Result:\", result, \"\\n\")\n",
    "        return result, None\n",
    "    \n",
    "    npc = npcs[0]\n",
    "    cur_action = npc.get('action', {})\n",
    "    action_id = cur_action.get('actionId', '0')\n",
    "    targetNPCId = cur_action.get('param', {}).get('npcId', None)\n",
    "    print(action_id, targetNPCId)\n",
    "    if targetNPCId:\n",
    "        result = (int(action_id) == 112)\n",
    "    else:\n",
    "        result = False\n",
    "    print(\"Method: parse_isFindingPeopletoTalk | Description: Checks if NPC is looking for people to talk | Result:\", result, \"\\n\")\n",
    "\n",
    "    return result, targetNPCId\n",
    "\n",
    "parse_isFindingPeopletoTalk(java_json)"
   ]
  },
  {
   "cell_type": "code",
   "execution_count": 9,
   "metadata": {},
   "outputs": [
    {
     "ename": "NameError",
     "evalue": "name 'BhrLgcManualProcess' is not defined",
     "output_type": "error",
     "traceback": [
      "\u001b[0;31m---------------------------------------------------------------------------\u001b[0m",
      "\u001b[0;31mNameError\u001b[0m                                 Traceback (most recent call last)",
      "Cell \u001b[0;32mIn[9], line 1\u001b[0m\n\u001b[0;32m----> 1\u001b[0m talkingInfo, is_talking \u001b[38;5;241m=\u001b[39m \u001b[43mBhrLgcManualProcess\u001b[49m\u001b[38;5;241m.\u001b[39mparse_talking_from_java(java_json)\n\u001b[1;32m      2\u001b[0m is_idling \u001b[38;5;241m=\u001b[39m BhrLgcManualProcess\u001b[38;5;241m.\u001b[39mparse_isIdling(java_json)\n\u001b[1;32m      5\u001b[0m inputInHumanString \u001b[38;5;241m=\u001b[39m BhrLgcManualProcess\u001b[38;5;241m.\u001b[39mparse_npc_info_for_nextaction(java_json)\n",
      "\u001b[0;31mNameError\u001b[0m: name 'BhrLgcManualProcess' is not defined"
     ]
    }
   ],
   "source": [
    "talkingInfo, is_talking = BhrLgcManualProcess.parse_talking_from_java(java_json)\n",
    "is_idling = BhrLgcManualProcess.parse_isIdling(java_json)\n",
    "    \n",
    "\n",
    "inputInHumanString = BhrLgcManualProcess.parse_npc_info_for_nextaction(java_json)\n",
    "\n",
    "is_findingToTalk = BhrLgcManualProcess.parse_isFindingPeopletoTalk(java_json) # Last action is finding people to talk\n",
    "is_idling = BhrLgcManualProcess.parse_isIdling(java_json)\n",
    "is_talking = BhrLgcManualProcess.parse_isTalking(java_json) \n",
    "is_buying = BhrLgcManualProcess.parse_isBuying(java_json)\n",
    "\n",
    "target_sleeping, sleep_target_name = BhrLgcManualProcess.parse_target_sleeping(java_json) \n",
    "target_talking, talk_target_name = BhrLgcManualProcess.parse_target_talking(java_json)\n",
    "shop_target_present, shopowner_target_name  = BhrLgcManualProcess.parse_target_oid_owner_at_shop(java_json)\n",
    "\n",
    "\n",
    "to_memory = BhrLgcManualProcess.parse_npc_info_formemory(java_json)\n",
    "\n",
    "print(\"talkingInfo:\", talkingInfo)\n",
    "print(\"is_talking:\", is_talking)\n",
    "print(\"is_idling:\", is_idling)\n",
    "print(\"inputInHumanString:\", inputInHumanString)\n",
    "print(\"is_findingToTalk:\", is_findingToTalk)\n",
    "print(\"is_talking:\", is_talking)\n",
    "print(\"is_buying:\", is_buying)\n",
    "print(\"target_sleeping:\", target_sleeping)\n",
    "print(\"sleep_target_name:\", sleep_target_name)\n",
    "print(\"target_talking:\", target_talking)\n",
    "print(\"talk_target_name:\", talk_target_name)\n",
    "print(\"shop_target_present:\", shop_target_present)\n",
    "print(\"shopowner_target_name:\", shopowner_target_name)\n",
    "print(\"to_memory:\", to_memory)"
   ]
  },
  {
   "cell_type": "code",
   "execution_count": null,
   "metadata": {},
   "outputs": [
    {
     "data": {
      "text/plain": [
       "Traceback (most recent call last):\n",
       "  File \"/Users/jackhan/.vscode/extensions/ms-python.python-2024.22.0-darwin-arm64/python_files/python_server.py\", line 133, in exec_user_input\n",
       "    retval = callable_(user_input, user_globals)\n",
       "             ^^^^^^^^^^^^^^^^^^^^^^^^^^^^^^^^^^^\n",
       "  File \"<string>\", line 1, in <module>\n",
       "NameError: name 'test_json' is not defined\n",
       "\n"
      ]
     },
     "metadata": {},
     "output_type": "display_data"
    }
   ],
   "source": [
    "test_json"
   ]
  },
  {
   "cell_type": "code",
   "execution_count": null,
   "metadata": {},
   "outputs": [
    {
     "data": {
      "text/plain": [
       "Traceback (most recent call last):\n",
       "  File \"/Users/jackhan/.vscode/extensions/ms-python.python-2024.22.0-darwin-arm64/python_files/python_server.py\", line 133, in exec_user_input\n",
       "    retval = callable_(user_input, user_globals)\n",
       "             ^^^^^^^^^^^^^^^^^^^^^^^^^^^^^^^^^^^\n",
       "  File \"<string>\", line 4, in <module>\n",
       "NameError: name '__file__' is not defined. Did you mean: '__name__'?\n",
       "\n"
      ]
     },
     "metadata": {},
     "output_type": "display_data"
    }
   ],
   "source": [
    "import sys\n",
    "import os\n",
    "# Add the base directory (one level up from the current directory)\n",
    "base_dir = os.path.abspath(os.path.join(os.path.dirname(__file__), '..'))\n",
    "sys.path.append(base_dir)\n",
    "\n",
    "from DBConnect import DBCon\n",
    "from DBConnect import BhrDBJavaBuffer\n",
    "from DBConnect import BhrDBInstruction\n",
    "from DBConnect import BhrDBReflectionTracer\n",
    "from DBConnect import BhrDBMemStre\n",
    "from DBConnect import BhrDBReflection\n",
    "from DBConnect import BhrDBSchedule\n",
    "\n",
    "import BhrLgcGPTProcess\n",
    "import BhrLgcManualProcess\n",
    "import BhrLgcToMemStre\n",
    "\n",
    "import pandas as pd\n",
    "import numpy as np\n",
    "import json\n",
    "import re\n",
    "import pickle\n",
    "import hashlib\n",
    "import configparser\n",
    "import yaml\n",
    "\n",
    "config = configparser.ConfigParser()\n",
    "# Adjust path to look for config.ini in AImodule regardless of the current directory\n",
    "base_dir = os.path.abspath(os.path.join(os.path.dirname(__file__), '..'))\n",
    "config_path = os.path.join(base_dir, 'config.ini')\n",
    "config.read(config_path)\n",
    "\n",
    "yaml_path = os.path.join(base_dir, 'char_config.yaml')\n",
    "\n",
    "# Load the YAML file\n",
    "\n",
    "with open(yaml_path, 'r', encoding='utf-8' ) as file:\n",
    "    char_config = yaml.safe_load(file)\n",
    "    print(\"YAML content loaded successfully.\")\n"
   ]
  },
  {
   "cell_type": "code",
   "execution_count": null,
   "metadata": {},
   "outputs": [
    {
     "data": {
      "text/plain": [
       "Traceback (most recent call last):\n",
       "  File \"/Users/jackhan/.vscode/extensions/ms-python.python-2024.22.0-darwin-arm64/python_files/python_server.py\", line 133, in exec_user_input\n",
       "    retval = callable_(user_input, user_globals)\n",
       "             ^^^^^^^^^^^^^^^^^^^^^^^^^^^^^^^^^^^\n",
       "  File \"<string>\", line 2, in <module>\n",
       "NameError: name 'char_config' is not defined\n",
       "\n"
      ]
     },
     "metadata": {},
     "output_type": "display_data"
    }
   ],
   "source": [
    "\n",
    "npc = next((npc for npc in char_config['npcCharacters'] if npc['npcId'] == npcId), None)\n",
    "if not npc:\n",
    "    raise ValueError(f\"NPC with npcId {npcId} not found in char.yaml\")\n",
    "cur_schedule_str =  npc['schedule']"
   ]
  }
 ],
 "metadata": {
  "kernelspec": {
   "display_name": "aitown",
   "language": "python",
   "name": "python3"
  },
  "language_info": {
   "codemirror_mode": {
    "name": "ipython",
    "version": 3
   },
   "file_extension": ".py",
   "mimetype": "text/x-python",
   "name": "python",
   "nbconvert_exporter": "python",
   "pygments_lexer": "ipython3",
   "version": "3.11.4"
  }
 },
 "nbformat": 4,
 "nbformat_minor": 2
}
